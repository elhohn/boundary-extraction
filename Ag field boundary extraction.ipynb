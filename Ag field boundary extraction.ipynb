{
 "cells": [
  {
   "cell_type": "markdown",
   "metadata": {},
   "source": [
    "# Doing cool stuff with satellite data!\n",
    "What am I doing?"
   ]
  },
  {
   "cell_type": "markdown",
   "metadata": {},
   "source": [
    "## Checklist of steps\n",
    "\n",
    "- [ ] Access Google Earth Engine API\n",
    "- [ ] Download LandSat for growing season in Snake River basin"
   ]
  },
  {
   "cell_type": "markdown",
   "metadata": {},
   "source": [
    "## Resources for datasets and usage\n",
    "Google: Earth Engine Developers docs (http://developers.google.com/earth-engine)\n",
    "\n",
    "NASA: Landsat 8 Bands (https://landsat.gsfc.nasa.gov/landsat-8/landsat-8-bands)\n",
    "\n",
    "USGS: What are the best Landsat spectral bands for use in my research? (https://www.usgs.gov/faqs/what-are-best-landsat-spectral-bands-use-my-research?qt-news_science_products=0#qt-news_science_products)\n",
    "\n",
    "USGS: Common Landsat Band RGB Composites (https://www.usgs.gov/media/images/common-landsat-band-rgb-composites)\n",
    "\n",
    "NASA: How to Interpret Common False Color Images (https://earthobservatory.nasa.gov/features/FalseColor/page6.php)\n",
    "\n",
    "USGS: Spectral Characteristics Viewer (https://landsat.usgs.gov/spectral-characteristics-viewer)\n",
    "\n",
    "What we built in the class: Karin’s “Landsat 8 Analyzer” code snippet (https://code.earthengine.google.com/ad2cf9683d62290dcbe8d3b00babe45f)"
   ]
  },
  {
   "cell_type": "markdown",
   "metadata": {},
   "source": [
    "## Setup\n",
    "\n",
    "### Install Google Earth Engine API\n",
    "\n",
    "Must start by following the instructions here: https://developers.google.com/earth-engine/guides/python_install-conda#mac_5\n",
    "\n",
    "Once that is all good to go you should make sure your `ee` conda environment is activated (you should see `(ee)` at the beginning of your command prompt in the terminal where your username usually is. Get there by running `conda activate ee` (after creating the conda env according to the instructions above).\n",
    "\n",
    "Make sure you are always in your `ee` conda environment for development, and install all library dependencies only after activating your environment.\n",
    "\n",
    "To share the environment with other users for reproducibility, run \n",
    "`conda env export > $HOME/ee-shared-env.yml`, then have the other person download that file and run `conda env create -f path-to-ee-shared-env.yml`\n",
    "\n",
    "Once that is all set up and you are in your conda env you can simply import earthengine (`ee`)"
   ]
  },
  {
   "cell_type": "markdown",
   "metadata": {},
   "source": [
    "### Import and test GEE"
   ]
  },
  {
   "cell_type": "code",
   "execution_count": 2,
   "metadata": {},
   "outputs": [
    {
     "name": "stdout",
     "output_type": "stream",
     "text": [
      "{'type': 'Image', 'bands': [{'id': 'elevation', 'data_type': {'type': 'PixelType', 'precision': 'int', 'min': -32768, 'max': 32767}, 'dimensions': [1296001, 417601], 'crs': 'EPSG:4326', 'crs_transform': [0.0002777777777777778, 0, -180.0001388888889, 0, -0.0002777777777777778, 60.00013888888889]}], 'id': 'USGS/SRTMGL1_003', 'version': 1605362602494378, 'properties': {'system:visualization_0_min': '0.0', 'type_name': 'Image', 'thumb': 'https://mw1.google.com/ges/dd/images/SRTM90_V4_thumb.png', 'description': '<p>The Shuttle Radar Topography Mission (SRTM, see <a href=\"http://onlinelibrary.wiley.com/doi/10.1029/2005RG000183/full\">Farr\\net al. 2007</a>)\\ndigital elevation data is an international research effort that\\nobtained digital elevation models on a near-global scale. This\\nSRTM V3 product (SRTM Plus) is provided by NASA JPL\\nat a resolution of 1 arc-second (approximately 30m).</p><p>This dataset has undergone a void-filling process using open-source data\\n(ASTER GDEM2, GMTED2010, and NED), as opposed to other versions that\\ncontain voids or have been void-filled with commercial sources.\\nFor more information on the different versions see the\\n<a href=\"https://lpdaac.usgs.gov/documents/13/SRTM_Quick_Guide.pdf\">SRTM Quick Guide</a>.</p><p>Documentation:</p><ul><li><p><a href=\"https://lpdaac.usgs.gov/documents/179/SRTM_User_Guide_V3.pdf\">User&#39;s Guide</a></p></li><li><p><a href=\"https://lpdaac.usgs.gov/documents/13/SRTM_Quick_Guide.pdf\">General Documentation</a></p></li><li><p><a href=\"https://doi.org/10.1029/2005RG000183\">Algorithm Theoretical Basis Document (ATBD)</a></p></li></ul><p><b>Bands</b><table class=\"eecat\"><tr><th scope=\"col\">Name</th><th scope=\"col\">Description</th></tr><tr><td>elevation</td><td><p>Elevation</p></td></tr></table><p><b>Terms of Use</b><br><p>Unless otherwise noted, images and video on JPL public web sites (public sites ending with a jpl.nasa.gov address) may be used for any purpose without prior permission. For more information and exceptions visit the <a href=\"https://www.jpl.nasa.gov/imagepolicy/\">JPL Image Use Policy site</a>.</p><p><b>Suggested citation(s)</b><ul><li><p>Farr, T.G., Rosen, P.A., Caro, E., Crippen, R., Duren, R., Hensley, S., Kobrick, M., Paller, M., Rodriguez, E., Roth, L., Seal, D., Shaffer, S., Shimada, J., Umland, J., Werner, M., Oskin, M., Burbank, D., and Alsdorf, D.E., 2007, The shuttle radar topography mission: Reviews of Geophysics, v. 45, no. 2, RG2004, at <a href=\"https://doi.org/10.1029/2005RG000183\">https://doi.org/10.1029/2005RG000183</a>.</p></li></ul><style>\\n  table.eecat {\\n  border: 1px solid black;\\n  border-collapse: collapse;\\n  font-size: 13px;\\n  }\\n  table.eecat td, tr, th {\\n  text-align: left; vertical-align: top;\\n  border: 1px solid gray; padding: 3px;\\n  }\\n  td.nobreak { white-space: nowrap; }\\n</style>', 'source_tags': ['nasa', 'usgs'], 'visualization_0_max': '6000.0', 'title': 'NASA SRTM Digital Elevation 30m', 'product_tags': ['srtm', 'elevation', 'topography', 'dem', 'geophysical'], 'provider': 'NASA / USGS / JPL-Caltech', 'visualization_0_min': '0.0', 'visualization_0_name': 'Elevation', 'date_range': [950227200000, 951177600000], 'system:visualization_0_gamma': '1.6', 'period': 0, 'system:visualization_0_bands': 'elevation', 'provider_url': 'https://cmr.earthdata.nasa.gov/search/concepts/C1000000240-LPDAAC_ECS.html', 'visualization_0_gamma': '1.6', 'sample': 'https://mw1.google.com/ges/dd/images/SRTM90_V4_sample.png', 'tags': ['nasa', 'usgs', 'srtm', 'elevation', 'topography', 'dem', 'geophysical'], 'system:visualization_0_max': '6000.0', 'system:visualization_0_name': 'Elevation', 'system:asset_size': 132792638252, 'visualization_0_bands': 'elevation'}}\n"
     ]
    }
   ],
   "source": [
    "import ee\n",
    "\n",
    "# Initialize the Earth Engine module.\n",
    "ee.Initialize()\n",
    "\n",
    "# Print metadata for a DEM dataset.\n",
    "print(ee.Image('USGS/SRTMGL1_003').getInfo())"
   ]
  },
  {
   "cell_type": "markdown",
   "metadata": {},
   "source": [
    "### Success!!!"
   ]
  },
  {
   "cell_type": "markdown",
   "metadata": {},
   "source": [
    "## Testing an example use case\n",
    "## NOTE: Not sure if this is useful AT ALL\n",
    "Source: https://github.com/google/earthengine-api/blob/master/python/examples/ipynb/Earth_Engine_asset_from_cloud_geotiff.ipynb"
   ]
  },
  {
   "cell_type": "code",
   "execution_count": 6,
   "metadata": {},
   "outputs": [
    {
     "name": "stdout",
     "output_type": "stream",
     "text": [
      "To authorize access needed by Earth Engine, open the following URL in a web browser and follow the instructions. If the web browser does not start automatically, please manually browse the URL below.\n",
      "\n",
      "    https://accounts.google.com/o/oauth2/auth?response_type=code&client_id=517222506229-vsmmajv00ul0bs7p89v5m89qs8eb9359.apps.googleusercontent.com&redirect_uri=urn%3Aietf%3Awg%3Aoauth%3A2.0%3Aoob&scope=https%3A%2F%2Fwww.googleapis.com%2Fauth%2Fearthengine+https%3A%2F%2Fwww.googleapis.com%2Fauth%2Fdevstorage.full_control&state=WAc7fOl6xgAtrPdIGGHMOrNl1lwGY1&prompt=consent&access_type=offline\n",
      "\n",
      "The authorization workflow will generate a code, which you should paste in the box below. \n",
      "\n",
      "\n",
      "Enter the authorization code: \n",
      "4/1AY0e-g4r65fEw4WphgsJtkbnDzn0i9G9tHMhD0AO7KUoB_S13KB_6GU-8V4\n"
     ]
    }
   ],
   "source": [
    "from ee import oauth\n",
    "from google_auth_oauthlib.flow import Flow\n",
    "import json\n",
    "\n",
    "# Build the `client_secrets.json` file by borrowing the\n",
    "# Earth Engine python authenticator.\n",
    "client_secrets = {\n",
    "    'web': {\n",
    "        'client_id': oauth.CLIENT_ID,\n",
    "        'client_secret': oauth.CLIENT_SECRET,\n",
    "        'redirect_uris': [oauth.REDIRECT_URI],\n",
    "        'auth_uri': 'https://accounts.google.com/o/oauth2/auth',\n",
    "        'token_uri': 'https://accounts.google.com/o/oauth2/token'\n",
    "    }\n",
    "}\n",
    "\n",
    "# Write to a json file.\n",
    "client_secrets_file = 'client_secrets.json'\n",
    "with open(client_secrets_file, 'w') as f:\n",
    "  json.dump(client_secrets, f, indent=2)\n",
    "\n",
    "# Start the flow using the client_secrets.json file.\n",
    "flow = Flow.from_client_secrets_file(client_secrets_file,\n",
    "    scopes=oauth.SCOPES,\n",
    "    redirect_uri=oauth.REDIRECT_URI)\n",
    "\n",
    "# Get the authorization URL from the flow.\n",
    "auth_url, _ = flow.authorization_url(prompt='consent')\n",
    "\n",
    "# Print instructions to go to the authorization URL.\n",
    "oauth._display_auth_instructions_with_print(auth_url)\n",
    "print('\\n')\n",
    "\n",
    "# The user will get an authorization code.\n",
    "# This code is used to get the access token.\n",
    "code = input('Enter the authorization code: \\n')\n",
    "flow.fetch_token(code=code)\n",
    "\n",
    "# Get an authorized session from the flow.\n",
    "session = flow.authorized_session()"
   ]
  },
  {
   "cell_type": "markdown",
   "metadata": {},
   "source": [
    "## Generating datasets/assets in GEE then exporting them for use here\n",
    "Useful info: https://developers.google.com/earth-engine/guides/exporting#configuration-parameters\n",
    "\n",
    "My understanding is that the best way to do this is to use the JavaScript API in GEE to access and process datasets, which can then be exported and loaded here for use in models, etc.\n",
    "\n",
    "Still figuring this out though."
   ]
  },
  {
   "cell_type": "markdown",
   "metadata": {},
   "source": [
    "### Loading an existing COG (Cloud Optimized GeoTiff)\n",
    "I thiiiiiink then you can access the asset using something like the following (which uses an example COG, or Cloud Optimized GeoTiff). The request body is an instance of an EarthEngineAsset.\n",
    "\n",
    "This example COG was generated using this example script: https://code.earthengine.google.com/?scriptPath=Examples%3ACloud%20Masking%2FSentinel2"
   ]
  },
  {
   "cell_type": "code",
   "execution_count": 7,
   "metadata": {},
   "outputs": [
    {
     "name": "stdout",
     "output_type": "stream",
     "text": [
      "('{\"type\": \"IMAGE\", \"gcs_location\": {\"uris\": '\n",
      " '[\"gs://ee-docs-demos/COG_demo.tif\"]}, \"properties\": {\"source\": '\n",
      " '\"https://code.earthengine.google.com/d541cf8b268b2f9d8f834c255698201d\"}, '\n",
      " '\"startTime\": \"2016-01-01T00:00:00.000000000Z\", \"endTime\": '\n",
      " '\"2016-12-31T15:01:23.000000000Z\"}')\n"
     ]
    }
   ],
   "source": [
    "# Request body as a dictionary.\n",
    "request = {\n",
    "  'type': 'IMAGE',\n",
    "  'gcs_location': {\n",
    "    'uris': ['gs://ee-docs-demos/COG_demo.tif']\n",
    "  },\n",
    "  'properties': {\n",
    "    'source': 'https://code.earthengine.google.com/d541cf8b268b2f9d8f834c255698201d'\n",
    "  },\n",
    "  'startTime': '2016-01-01T00:00:00.000000000Z',\n",
    "  'endTime': '2016-12-31T15:01:23.000000000Z',\n",
    "}\n",
    "\n",
    "from pprint import pprint\n",
    "pprint(json.dumps(request))"
   ]
  },
  {
   "cell_type": "markdown",
   "metadata": {},
   "source": [
    "### Send the request\n",
    "Make the POST request to the Earth Engine CreateAsset endpoint.\n",
    "\n",
    "This will place the asset in your assets folder of your GEE account."
   ]
  },
  {
   "cell_type": "code",
   "execution_count": 9,
   "metadata": {},
   "outputs": [
    {
     "name": "stdout",
     "output_type": "stream",
     "text": [
      "{'bands': [{'dataType': {'precision': 'INT', 'range': {'max': 255}},\n",
      "            'grid': {'affineTransform': {'scaleX': 8.983152841195215e-05,\n",
      "                                         'scaleY': -8.983152841195215e-05,\n",
      "                                         'translateX': 6.236014870829306,\n",
      "                                         'translateY': 46.32773616955514},\n",
      "                     'crsCode': 'EPSG:4326',\n",
      "                     'dimensions': {'height': 445, 'width': 1377}},\n",
      "            'id': 'vis-red',\n",
      "            'pyramidingPolicy': 'MEAN'},\n",
      "           {'dataType': {'precision': 'INT', 'range': {'max': 255}},\n",
      "            'grid': {'affineTransform': {'scaleX': 8.983152841195215e-05,\n",
      "                                         'scaleY': -8.983152841195215e-05,\n",
      "                                         'translateX': 6.236014870829306,\n",
      "                                         'translateY': 46.32773616955514},\n",
      "                     'crsCode': 'EPSG:4326',\n",
      "                     'dimensions': {'height': 445, 'width': 1377}},\n",
      "            'id': 'vis-green',\n",
      "            'pyramidingPolicy': 'MEAN'},\n",
      "           {'dataType': {'precision': 'INT', 'range': {'max': 255}},\n",
      "            'grid': {'affineTransform': {'scaleX': 8.983152841195215e-05,\n",
      "                                         'scaleY': -8.983152841195215e-05,\n",
      "                                         'translateX': 6.236014870829306,\n",
      "                                         'translateY': 46.32773616955514},\n",
      "                     'crsCode': 'EPSG:4326',\n",
      "                     'dimensions': {'height': 445, 'width': 1377}},\n",
      "            'id': 'vis-blue',\n",
      "            'pyramidingPolicy': 'MEAN'}],\n",
      " 'cloudStorageLocation': {'uris': ['gs://ee-docs-demos/COG_demo.tif#1590794954417102']},\n",
      " 'endTime': '2016-12-31T15:01:23Z',\n",
      " 'geometry': {'coordinates': [[6.236043504788144, 46.287716776977526],\n",
      "                              [6.236059904015608, 46.287716102045906],\n",
      "                              [6.3596678509560505, 46.287716089184194],\n",
      "                              [6.359727915120883, 46.287752597933036],\n",
      "                              [6.3597940800102295, 46.2877837028902],\n",
      "                              [6.359797149268432, 46.28779476122136],\n",
      "                              [6.359798213229762, 46.28780607798192],\n",
      "                              [6.359798319393221, 46.327691286606445],\n",
      "                              [6.359745343550236, 46.32773272525141],\n",
      "                              [6.359700374307739, 46.32777841920909],\n",
      "                              [6.359678968866528, 46.327781226782015],\n",
      "                              [6.236059688174414, 46.3277812206486],\n",
      "                              [6.235999676561427, 46.32774469012162],\n",
      "                              [6.235933550348835, 46.32771356082485],\n",
      "                              [6.2359294471519435, 46.32769872909129],\n",
      "                              [6.235929548131829, 46.287806065634996],\n",
      "                              [6.235982543630947, 46.287764573982926],\n",
      "                              [6.236027592290578, 46.2877188929882],\n",
      "                              [6.236043504788144, 46.287716776977526]],\n",
      "              'type': 'LineString'},\n",
      " 'id': 'users/elliothohn/sample_asset',\n",
      " 'name': 'projects/earthengine-legacy/assets/users/elliothohn/sample_asset',\n",
      " 'properties': {'source': 'https://code.earthengine.google.com/d541cf8b268b2f9d8f834c255698201d'},\n",
      " 'startTime': '2016-01-01T00:00:00Z',\n",
      " 'type': 'IMAGE',\n",
      " 'updateTime': '2021-03-05T03:10:32.029966Z'}\n"
     ]
    }
   ],
   "source": [
    "# Send the request\n",
    "# Where Earth Engine assets are kept.\n",
    "project_folder = 'earthengine-legacy'\n",
    "# Your user folder name and new asset name.\n",
    "asset_id = 'users/elliothohn/sample_asset'\n",
    "\n",
    "url = 'https://earthengine.googleapis.com/v1alpha/projects/{}/assets?assetId={}'\n",
    "\n",
    "response = session.post(\n",
    "  url = url.format(project_folder, asset_id),\n",
    "  data = json.dumps(request)\n",
    ")\n",
    "\n",
    "pprint(json.loads(response.content))"
   ]
  },
  {
   "cell_type": "markdown",
   "metadata": {},
   "source": [
    "## Example 2 - uploading a set of image tiles into a single asset using a manifest file\n",
    "\n",
    "Source: https://github.com/google/earthengine-api/blob/master/python/examples/ipynb/Uploading_image_tiles_as_a_single_asset_using_a_manifest.ipynb\n",
    "\n",
    "#### NOTE: this is not working right now, and I don't think I actually need it quite yet (because I think I can start by using assets within GEE without having to store anything in Google Cloud Storage yet). Once I'm at that stage (assuming that's actually necessary/useful?) maybe move this into it's own notebook."
   ]
  },
  {
   "cell_type": "code",
   "execution_count": 12,
   "metadata": {},
   "outputs": [
    {
     "name": "stdout",
     "output_type": "stream",
     "text": [
      "/bin/bash: gsutil: command not found\n",
      "  % Total    % Received % Xferd  Average Speed   Time    Time     Time  Current\n",
      "                                 Dload  Upload   Total   Spent    Left  Speed\n",
      "  0 58.1M    0 22919    0     0  42208      0  0:24:03 --:--:--  0:24:03 42208\n",
      "curl: (23) Failed writing body (0 != 11004)\n",
      "/bin/bash: gsutil: command not found\n",
      "  % Total    % Received % Xferd  Average Speed   Time    Time     Time  Current\n",
      "                                 Dload  Upload   Total   Spent    Left  Speed\n",
      "  0 48.0M    0 36251    0     0  52310      0  0:16:03 --:--:--  0:16:03 52385\n",
      "curl: (23) Failed writing body (0 != 16384)\n",
      "/bin/bash: gsutil: command not found\n",
      "  % Total    % Received % Xferd  Average Speed   Time    Time     Time  Current\n",
      "                                 Dload  Upload   Total   Spent    Left  Speed\n",
      "  0 11.3M    0 36252    0     0  48530      0  0:04:04 --:--:--  0:04:04 48530\n",
      "curl: (23) Failed writing body (0 != 16384)\n",
      "/bin/bash: gsutil: command not found\n",
      "  % Total    % Received % Xferd  Average Speed   Time    Time     Time  Current\n",
      "                                 Dload  Upload   Total   Spent    Left  Speed\n",
      "  0 42.6M    0 31043    0     0  44730      0  0:16:40 --:--:--  0:16:40 44666\n",
      "curl: (23) Failed writing body (0 != 16384)\n",
      "/bin/bash: gsutil: command not found\n",
      "  % Total    % Received % Xferd  Average Speed   Time    Time     Time  Current\n",
      "                                 Dload  Upload   Total   Spent    Left  Speed\n",
      "  0 43.3M    0 22931    0     0  35662      0  0:21:15 --:--:--  0:21:15 35662\n",
      "curl: (23) Failed writing body (0 != 11016)\n",
      "/bin/bash: gsutil: command not found\n",
      "  % Total    % Received % Xferd  Average Speed   Time    Time     Time  Current\n",
      "                                 Dload  Upload   Total   Spent    Left  Speed\n",
      "  0 35.7M    0 18863    0     0   8255      0  1:15:39  0:00:02  1:15:37  8255\n",
      "curl: (23) Failed writing body (0 != 5496)\n"
     ]
    }
   ],
   "source": [
    "# URLs of a few tiles.\n",
    "urls = [\n",
    "  'http://data.ess.tsinghua.edu.cn/data/fromglc10_2017v01/fromglc10v01_36_-120.tif',\n",
    "  'http://data.ess.tsinghua.edu.cn/data/fromglc10_2017v01/fromglc10v01_36_-122.tif',\n",
    "  'http://data.ess.tsinghua.edu.cn/data/fromglc10_2017v01/fromglc10v01_36_-124.tif',\n",
    "  'http://data.ess.tsinghua.edu.cn/data/fromglc10_2017v01/fromglc10v01_38_-120.tif',\n",
    "  'http://data.ess.tsinghua.edu.cn/data/fromglc10_2017v01/fromglc10v01_38_-122.tif',\n",
    "  'http://data.ess.tsinghua.edu.cn/data/fromglc10_2017v01/fromglc10v01_38_-124.tif'\n",
    "]\n",
    "\n",
    "# You need to have write access to this bucket.\n",
    "bucket = 'imagery-testing'\n",
    "\n",
    "# Pipe curl output to gsutil.\n",
    "for f in urls:\n",
    "  filepath = bucket + '/' + f.split('/')[-1]\n",
    "  !curl {f} | gsutil cp - {filepath}"
   ]
  },
  {
   "cell_type": "markdown",
   "metadata": {},
   "source": [
    "## TensorFlow example\n",
    "Source: https://github.com/google/earthengine-api/blob/master/python/examples/ipynb/Earth_Engine_TensorFlow_AI_Platform.ipynb\n"
   ]
  },
  {
   "cell_type": "code",
   "execution_count": 13,
   "metadata": {},
   "outputs": [
    {
     "data": {
      "text/html": [
       "<p>To authorize access needed by Earth Engine, open the following\n",
       "        URL in a web browser and follow the instructions:</p>\n",
       "        <p><a href=https://accounts.google.com/o/oauth2/auth?client_id=517222506229-vsmmajv00ul0bs7p89v5m89qs8eb9359.apps.googleusercontent.com&scope=https%3A%2F%2Fwww.googleapis.com%2Fauth%2Fearthengine+https%3A%2F%2Fwww.googleapis.com%2Fauth%2Fdevstorage.full_control&redirect_uri=urn%3Aietf%3Awg%3Aoauth%3A2.0%3Aoob&response_type=code&code_challenge=ELaugEDbaKIYdAUQTuxFy9fAhRyL9fZDpE6kA901Kg0&code_challenge_method=S256>https://accounts.google.com/o/oauth2/auth?client_id=517222506229-vsmmajv00ul0bs7p89v5m89qs8eb9359.apps.googleusercontent.com&scope=https%3A%2F%2Fwww.googleapis.com%2Fauth%2Fearthengine+https%3A%2F%2Fwww.googleapis.com%2Fauth%2Fdevstorage.full_control&redirect_uri=urn%3Aietf%3Awg%3Aoauth%3A2.0%3Aoob&response_type=code&code_challenge=ELaugEDbaKIYdAUQTuxFy9fAhRyL9fZDpE6kA901Kg0&code_challenge_method=S256</a></p>\n",
       "        <p>The authorization workflow will generate a code, which you\n",
       "        should paste in the box below</p>\n",
       "        "
      ],
      "text/plain": [
       "<IPython.core.display.HTML object>"
      ]
     },
     "metadata": {},
     "output_type": "display_data"
    },
    {
     "name": "stdout",
     "output_type": "stream",
     "text": [
      "Enter verification code: 4/1AY0e-g7kyUwxxjzbUe1Uol-n3PkjG_sF6uNIDujJfXBIRomrH85ZEuk3TIg\n",
      "\n",
      "Successfully saved authorization token.\n"
     ]
    }
   ],
   "source": [
    "import ee\n",
    "ee.Authenticate()\n",
    "ee.Initialize()"
   ]
  },
  {
   "cell_type": "code",
   "execution_count": 17,
   "metadata": {},
   "outputs": [
    {
     "ename": "ModuleNotFoundError",
     "evalue": "No module named 'tensorflow'",
     "output_type": "error",
     "traceback": [
      "\u001b[0;31m---------------------------------------------------------------------------\u001b[0m",
      "\u001b[0;31mModuleNotFoundError\u001b[0m                       Traceback (most recent call last)",
      "\u001b[0;32m<ipython-input-17-f83c6d50081b>\u001b[0m in \u001b[0;36m<module>\u001b[0;34m\u001b[0m\n\u001b[0;32m----> 1\u001b[0;31m \u001b[0;32mimport\u001b[0m \u001b[0mtensorflow\u001b[0m \u001b[0;32mas\u001b[0m \u001b[0mtf\u001b[0m\u001b[0;34m\u001b[0m\u001b[0;34m\u001b[0m\u001b[0m\n\u001b[0m\u001b[1;32m      2\u001b[0m \u001b[0mprint\u001b[0m\u001b[0;34m(\u001b[0m\u001b[0mtf\u001b[0m\u001b[0;34m.\u001b[0m\u001b[0m__version__\u001b[0m\u001b[0;34m)\u001b[0m\u001b[0;34m\u001b[0m\u001b[0;34m\u001b[0m\u001b[0m\n",
      "\u001b[0;31mModuleNotFoundError\u001b[0m: No module named 'tensorflow'"
     ]
    }
   ],
   "source": [
    "import tensorflow as tf\n",
    "print(tf.__version__)"
   ]
  },
  {
   "cell_type": "code",
   "execution_count": null,
   "metadata": {},
   "outputs": [],
   "source": []
  }
 ],
 "metadata": {
  "kernelspec": {
   "display_name": "Python 3",
   "language": "python",
   "name": "python3"
  },
  "language_info": {
   "codemirror_mode": {
    "name": "ipython",
    "version": 3
   },
   "file_extension": ".py",
   "mimetype": "text/x-python",
   "name": "python",
   "nbconvert_exporter": "python",
   "pygments_lexer": "ipython3",
   "version": "3.9.2"
  }
 },
 "nbformat": 4,
 "nbformat_minor": 4
}
